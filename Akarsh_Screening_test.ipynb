{
 "cells": [
  {
   "cell_type": "markdown",
   "id": "4b832ca4",
   "metadata": {},
   "source": [
    "## 1. Create a function in python to read the text file and replace specific content of the file."
   ]
  },
  {
   "cell_type": "code",
   "execution_count": 50,
   "id": "b585f38b",
   "metadata": {},
   "outputs": [],
   "source": [
    "f  = open(\"example.txt\", \"r+\")\n",
    "f.write(\"This is a placement session\")\n",
    "f.close()"
   ]
  },
  {
   "cell_type": "code",
   "execution_count": 51,
   "id": "82187634",
   "metadata": {},
   "outputs": [
    {
     "data": {
      "text/plain": [
       "'This is a placement session'"
      ]
     },
     "execution_count": 51,
     "metadata": {},
     "output_type": "execute_result"
    }
   ],
   "source": [
    "f = open(\"example.txt\", \"r\")\n",
    "f.read()"
   ]
  },
  {
   "cell_type": "code",
   "execution_count": 52,
   "id": "10281c34",
   "metadata": {},
   "outputs": [],
   "source": [
    "\n",
    "def file_replace(file_name, textSearch, textReplace):\n",
    "    with open(file_name, \"r\") as file:\n",
    "        data = file.read()\n",
    "        data = data.replace(textSearch, textReplace)\n",
    "    with open(file_name, \"w\") as file:\n",
    "        file.write(data)\n",
    "        \n",
    "file_replace(\"example.txt\",'placement','screening')"
   ]
  },
  {
   "cell_type": "code",
   "execution_count": 53,
   "id": "66ca0e8f",
   "metadata": {},
   "outputs": [
    {
     "data": {
      "text/plain": [
       "'This is a screening session'"
      ]
     },
     "execution_count": 53,
     "metadata": {},
     "output_type": "execute_result"
    }
   ],
   "source": [
    "f = open(\"example.txt\", \"r\")\n",
    "f.read()"
   ]
  },
  {
   "cell_type": "code",
   "execution_count": null,
   "id": "f7ed8711",
   "metadata": {},
   "outputs": [],
   "source": []
  },
  {
   "cell_type": "code",
   "execution_count": null,
   "id": "0421a34e",
   "metadata": {},
   "outputs": [],
   "source": []
  },
  {
   "cell_type": "markdown",
   "id": "2054d20b",
   "metadata": {},
   "source": [
    "## 2. Demonstrate use of abstract class, multiple inheritance and decorator in python using examples."
   ]
  },
  {
   "cell_type": "markdown",
   "id": "228c0078",
   "metadata": {},
   "source": [
    "### Multiple inheritance"
   ]
  },
  {
   "cell_type": "code",
   "execution_count": 63,
   "id": "6c6b9e31",
   "metadata": {},
   "outputs": [
    {
     "name": "stdout",
     "output_type": "stream",
     "text": [
      "Batch : 20\n",
      "course : Masters in Data Science\n"
     ]
    }
   ],
   "source": [
    "#Multiple inheritance\n",
    " \n",
    " \n",
    "# Parent class1\n",
    "class Registration:\n",
    "    reg_num = \"\"\n",
    "    def __init__(self,name,age,gender):\n",
    "        self.name=name \n",
    "        self.age=age \n",
    "        self.gender=gender\n",
    "    #@staticmethod   \n",
    "    def reg(self):\n",
    "        print(self.reg_num)\n",
    " \n",
    "# Parent class2\n",
    "class course_data:\n",
    "    cname = \"\"\n",
    "    def course(self):\n",
    "        print(self.cname)\n",
    " \n",
    "# Child class\n",
    "class Student(Registration, course_data):\n",
    "   \n",
    "    def data_reg_cour(self):\n",
    "        print(\"Batch :\", self.reg_num)\n",
    "        print(\"course :\", self.cname)\n",
    "\n",
    " \n",
    "\n",
    "# Child class code\n",
    "s1 = Student(\"ABCD\", 20, \"Male\")\n",
    "s1.reg_num = \"20\"\n",
    "s1.cname = \"Masters in Data Science\"\n",
    "s1.data_reg_cour()\n"
   ]
  },
  {
   "cell_type": "markdown",
   "id": "933873d9",
   "metadata": {},
   "source": [
    "### Abstract Classes"
   ]
  },
  {
   "cell_type": "code",
   "execution_count": 4,
   "id": "87f29e00",
   "metadata": {},
   "outputs": [
    {
     "name": "stdout",
     "output_type": "stream",
     "text": [
      "this is subclass\n"
     ]
    }
   ],
   "source": [
    "# Abstract Classes \n",
    "\n",
    "\n",
    "# senario 1\n",
    "\n",
    "from abc import ABC, abstractmethod\n",
    "\n",
    "class a_class(ABC):\n",
    "    def a_method(self):\n",
    "        pass\n",
    "#        print(\"Abstract Base Class\")\n",
    " \n",
    "class n_class(a_class):\n",
    "    def a_method(self):\n",
    "        super().a_method()\n",
    "        print(\"this is subclass\")\n",
    " \n",
    "# Driver code\n",
    "test1 = n_class()\n",
    "test1.a_method()"
   ]
  },
  {
   "cell_type": "code",
   "execution_count": 66,
   "id": "df096886",
   "metadata": {},
   "outputs": [
    {
     "name": "stdout",
     "output_type": "stream",
     "text": [
      "Abstract Base Class\n",
      "this is subclass\n"
     ]
    }
   ],
   "source": [
    "# Abstract Classes \n",
    "\n",
    "\n",
    "# senario 2\n",
    "\n",
    "from abc import ABC, abstractmethod\n",
    "\n",
    "class a_class(ABC):\n",
    "    def a_method(self):\n",
    "        # pass\n",
    "        print(\"Abstract Base Class\")\n",
    " \n",
    "class n_class(a_class):\n",
    "    def a_method(self):\n",
    "        super().a_method()\n",
    "        print(\"this is subclass\")\n",
    " \n",
    "# Driver code\n",
    "test1 = n_class()\n",
    "test1.a_method()"
   ]
  },
  {
   "cell_type": "code",
   "execution_count": null,
   "id": "76183bae",
   "metadata": {},
   "outputs": [],
   "source": []
  },
  {
   "cell_type": "code",
   "execution_count": 5,
   "id": "6f8b84cf",
   "metadata": {},
   "outputs": [
    {
     "name": "stdout",
     "output_type": "stream",
     "text": [
      "Abstract Base Class\n",
      "this is subclass\n"
     ]
    }
   ],
   "source": [
    "class a_class:\n",
    "    def a_method(self):\n",
    "        # pass\n",
    "        print(\"Abstract Base Class\")\n",
    " \n",
    "class n_class(a_class):\n",
    "    def a_method(self):\n",
    "        super().a_method()\n",
    "        print(\"this is subclass\")\n",
    " \n",
    "# Driver code\n",
    "test1 = n_class()\n",
    "test1.a_method()"
   ]
  },
  {
   "cell_type": "markdown",
   "id": "6fd8ac7c",
   "metadata": {},
   "source": [
    "### Decorators"
   ]
  },
  {
   "cell_type": "code",
   "execution_count": 2,
   "id": "a26d9755",
   "metadata": {},
   "outputs": [
    {
     "name": "stdout",
     "output_type": "stream",
     "text": [
      "[9, 13, 29, 85, 43]\n"
     ]
    }
   ],
   "source": [
    "\n",
    "def decor_list(func):\n",
    "    def inner_func(list_of_tuples):\n",
    "        return [func(i[0], i[1]) for i in list_of_tuples]\n",
    "    return inner_func\n",
    "\n",
    "@decor_list\n",
    "def add_nums(a,b):\n",
    "    return a+b\n",
    "\n",
    "\n",
    "# the above function can also be used as below\n",
    "# add_nums = decor_list(add_nums)\n",
    "\n",
    "print(add_nums([(4,5),(6,7),(10,19),(40,45),(20,23)]))"
   ]
  },
  {
   "cell_type": "code",
   "execution_count": null,
   "id": "bf420208",
   "metadata": {},
   "outputs": [],
   "source": []
  },
  {
   "cell_type": "code",
   "execution_count": 3,
   "id": "81f73f95",
   "metadata": {},
   "outputs": [
    {
     "name": "stdout",
     "output_type": "stream",
     "text": [
      "[9, 13, 29, 85, 43]\n"
     ]
    }
   ],
   "source": [
    "#  same as above function instead of @ we have used direct assigning of function\n",
    "\n",
    "\n",
    "\n",
    "def decor_list(func):\n",
    "    def inner_func(list_of_tuples):\n",
    "        return [func(i[0], i[1]) for i in list_of_tuples]\n",
    "    return inner_func\n",
    "\n",
    "\n",
    "def add_nums(a,b):\n",
    "    return a+b\n",
    "\n",
    "\n",
    "add_nums = decor_list(add_nums)\n",
    "\n",
    "print(add_nums([(4,5),(6,7),(10,19),(40,45),(20,23)]))"
   ]
  },
  {
   "cell_type": "code",
   "execution_count": null,
   "id": "269a13b0",
   "metadata": {},
   "outputs": [],
   "source": []
  }
 ],
 "metadata": {
  "kernelspec": {
   "display_name": "Python 3 (ipykernel)",
   "language": "python",
   "name": "python3"
  },
  "language_info": {
   "codemirror_mode": {
    "name": "ipython",
    "version": 3
   },
   "file_extension": ".py",
   "mimetype": "text/x-python",
   "name": "python",
   "nbconvert_exporter": "python",
   "pygments_lexer": "ipython3",
   "version": "3.9.7"
  }
 },
 "nbformat": 4,
 "nbformat_minor": 5
}
